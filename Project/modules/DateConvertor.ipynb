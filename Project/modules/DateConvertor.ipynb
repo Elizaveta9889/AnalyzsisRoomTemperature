{
  "nbformat": 4,
  "nbformat_minor": 0,
  "metadata": {
    "colab": {
      "name": "DateConvertor.ipynb",
      "provenance": [],
      "collapsed_sections": []
    },
    "kernelspec": {
      "name": "python3",
      "display_name": "Python 3"
    }
  },
  "cells": [
    {
      "cell_type": "code",
      "metadata": {
        "id": "VxX56-TiVL-O"
      },
      "source": [
        "from datetime import datetime, date, time, timedelta\r\n",
        "import pandas as pd\r\n",
        "\r\n",
        "def str_to_date(date, format = \"%Y-%m-%d\"):\r\n",
        "  if (type(date) == str):\r\n",
        "    date = datetime.strptime(date, format)\r\n",
        "  return date\r\n",
        "\r\n",
        "def str_to_time(time, format = \"%H:%M:%S\"):\r\n",
        "  if (type(time) == str):\r\n",
        "    time = datetime.strptime(time, format).time()\r\n",
        "  return time\r\n",
        "\r\n",
        "def str_to_date_time(date, format = \"%Y-%m-%d %H:%M:%S\"):\r\n",
        "  if (type(date) == str):\r\n",
        "    date = datetime.strptime(date, format)\r\n",
        "  return date\r\n",
        "\r\n",
        "def get_datetime(date, time, dateformat = \"%Y-%m-%d\", timeformat = \"%H:%M:%S\"):\r\n",
        "  return datetime.combine(str_to_date(date, dateformat), str_to_time(time, timeformat))\r\n",
        "\r\n",
        "# the same for df columns\r\n",
        "def df_str_to_date(df, column, format = \"%Y-%m-%d\"):\r\n",
        "  df[column] = df[column].apply(lambda x: str_to_date(x, format))\r\n",
        "\r\n",
        "def df_str_to_time(df, column, format = \"%H:%M:%S\"):\r\n",
        "  df[column] = df[column].apply(lambda x: str_to_time(x, format))\r\n",
        "\r\n",
        "def df_add_datetime(df, date = \"date\", time = \"time\", column_name = \"date_time\", dateformat = \"%Y-%m-%d\", timeformat = \"%H:%M:%S\"):\r\n",
        "  df[column_name] = df.apply(lambda x: get_datetime(x[date], x[time], dateformat, timeformat), axis=1)"
      ],
      "execution_count": null,
      "outputs": []
    },
    {
      "cell_type": "code",
      "metadata": {
        "id": "P-qgb37i8f8S"
      },
      "source": [
        ""
      ],
      "execution_count": null,
      "outputs": []
    }
  ]
}